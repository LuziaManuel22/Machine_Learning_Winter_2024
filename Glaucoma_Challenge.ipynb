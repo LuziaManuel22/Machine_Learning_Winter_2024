{
  "nbformat": 4,
  "nbformat_minor": 0,
  "metadata": {
    "colab": {
      "provenance": [],
      "mount_file_id": "1KMqBLlCGT3YaG_BeIsySHU5w9j9kAo6r",
      "authorship_tag": "ABX9TyPP26Sh/Ggl8MZ9msCBTjAJ",
      "include_colab_link": true
    },
    "kernelspec": {
      "name": "python3",
      "display_name": "Python 3"
    },
    "language_info": {
      "name": "python"
    }
  },
  "cells": [
    {
      "cell_type": "markdown",
      "metadata": {
        "id": "view-in-github",
        "colab_type": "text"
      },
      "source": [
        "<a href=\"https://colab.research.google.com/github/LuziaManuel22/Machine_Learning_Winter_2024/blob/main/Glaucoma_Challenge.ipynb\" target=\"_parent\"><img src=\"https://colab.research.google.com/assets/colab-badge.svg\" alt=\"Open In Colab\"/></a>"
      ]
    },
    {
      "cell_type": "code",
      "execution_count": 1,
      "metadata": {
        "colab": {
          "base_uri": "https://localhost:8080/"
        },
        "id": "3XmuO5pZlllY",
        "outputId": "d934e922-57d6-4492-b9c1-d92d82526d21"
      },
      "outputs": [
        {
          "output_type": "stream",
          "name": "stdout",
          "text": [
            "Missing values and percentages per column::\n",
            "\n",
            "\n",
            "                Missing Values  Percentage Missing\n",
            "Eye ID                       0            0.000000\n",
            "Final Label                  0            0.000000\n",
            "Fellow Eye ID             3783            8.186540\n",
            "Age                          9            0.019476\n",
            "Label G1                   122            0.264012\n",
            "Label G2                   615            1.330881\n",
            "Label G3                 42408           91.772344\n",
            "G1 ANRS                    122            0.264012\n",
            "G1 ANRI                    122            0.264012\n",
            "G1 RNFLDS                  122            0.264012\n",
            "G1 RNFLDI                  122            0.264012\n",
            "G1 BCLVS                   122            0.264012\n",
            "G1 BCLVI                   122            0.264012\n",
            "G1 NVT                     122            0.264012\n",
            "G1 DH                      122            0.264012\n",
            "G1 LD                      122            0.264012\n",
            "G1 LC                      122            0.264012\n",
            "G2 ANRS                    615            1.330881\n",
            "G2 ANRI                    615            1.330881\n",
            "G2 RNFLDS                  615            1.330881\n",
            "G2 RNFLDI                  615            1.330881\n",
            "G2 BCLVS                   615            1.330881\n",
            "G2 BCLVI                   615            1.330881\n",
            "G2 NVT                     615            1.330881\n",
            "G2 DH                      615            1.330881\n",
            "G2 LD                      615            1.330881\n",
            "G2 LC                      615            1.330881\n",
            "G3 ANRS                  42408           91.772344\n",
            "G3 ANRI                  42408           91.772344\n",
            "G3 RNFLDS                42408           91.772344\n",
            "G3 RNFLDI                42408           91.772344\n",
            "G3 BCLVS                 42408           91.772344\n",
            "G3 BCLVI                 42408           91.772344\n",
            "G3 NVT                   42408           91.772344\n",
            "G3 DH                    42408           91.772344\n",
            "G3 LD                    42408           91.772344\n",
            "G3 LC                    42408           91.772344\n",
            "\n",
            "\n",
            "\n",
            "\n",
            "First 21 lines of the CSV file::\n",
            "\n",
            "\n",
            "      Eye ID    Final Label Fellow Eye ID   Age Label G1 Label G2 Label G3  G1 ANRS  G1 ANRI  G1 RNFLDS  G1 RNFLDI  G1 BCLVS  G1 BCLVI  G1 NVT  G1 DH  G1 LD  G1 LC  G2 ANRS  G2 ANRI  G2 RNFLDS  G2 RNFLDI  G2 BCLVS  G2 BCLVI  G2 NVT  G2 DH  G2 LD  G2 LC  G3 ANRS  G3 ANRI  G3 RNFLDS  G3 RNFLDI  G3 BCLVS  G3 BCLVI  G3 NVT  G3 DH  G3 LD  G3 LC\n",
            "0   TRAIN000000      NRG      TRAIN081848  48.0    NRG      NRG      NaN      0.0      0.0       0.0        0.0        0.0       0.0      0.0    0.0    0.0    0.0     0.0      0.0       0.0        0.0        0.0       0.0      0.0    0.0    0.0    0.0     NaN      NaN       NaN        NaN        NaN       NaN      NaN    NaN    NaN    NaN \n",
            "1   TRAIN000001      NRG      TRAIN018312  29.0    NRG      NRG      NaN      0.0      0.0       0.0        0.0        0.0       0.0      0.0    0.0    0.0    0.0     0.0      0.0       0.0        0.0        0.0       0.0      0.0    0.0    0.0    0.0     NaN      NaN       NaN        NaN        NaN       NaN      NaN    NaN    NaN    NaN \n",
            "2   TRAIN000002      NRG      TRAIN083822  61.0    NRG      NRG      NaN      0.0      0.0       0.0        0.0        0.0       0.0      0.0    0.0    0.0    0.0     0.0      0.0       0.0        0.0        0.0       0.0      0.0    0.0    0.0    0.0     NaN      NaN       NaN        NaN        NaN       NaN      NaN    NaN    NaN    NaN \n",
            "3   TRAIN000003      NRG      TRAIN055721  70.0    NRG      NRG      NaN      0.0      0.0       0.0        0.0        0.0       0.0      0.0    0.0    0.0    0.0     0.0      0.0       0.0        0.0        0.0       0.0      0.0    0.0    0.0    0.0     NaN      NaN       NaN        NaN        NaN       NaN      NaN    NaN    NaN    NaN \n",
            "4   TRAIN000004      NRG      TRAIN099283  48.0    NRG      NRG      NaN      0.0      0.0       0.0        0.0        0.0       0.0      0.0    0.0    0.0    0.0     0.0      0.0       0.0        0.0        0.0       0.0      0.0    0.0    0.0    0.0     NaN      NaN       NaN        NaN        NaN       NaN      NaN    NaN    NaN    NaN \n",
            "5   TRAIN000005      NRG      TRAIN062790  67.0    NRG      NRG      NaN      0.0      0.0       0.0        0.0        0.0       0.0      0.0    0.0    0.0    0.0     0.0      0.0       0.0        0.0        0.0       0.0      0.0    0.0    0.0    0.0     NaN      NaN       NaN        NaN        NaN       NaN      NaN    NaN    NaN    NaN \n",
            "6   TRAIN000006      NRG      TRAIN090114  35.0    NRG      NRG      NaN      0.0      0.0       0.0        0.0        0.0       0.0      0.0    0.0    0.0    0.0     0.0      0.0       0.0        0.0        0.0       0.0      0.0    0.0    0.0    0.0     NaN      NaN       NaN        NaN        NaN       NaN      NaN    NaN    NaN    NaN \n",
            "7   TRAIN000007      NRG      TRAIN097284  64.0    NRG      NRG      NaN      0.0      0.0       0.0        0.0        0.0       0.0      0.0    0.0    0.0    0.0     0.0      0.0       0.0        0.0        0.0       0.0      0.0    0.0    0.0    0.0     NaN      NaN       NaN        NaN        NaN       NaN      NaN    NaN    NaN    NaN \n",
            "8   TRAIN000008      NRG      TRAIN020824  61.0    NRG      NRG      NaN      0.0      0.0       0.0        0.0        0.0       0.0      0.0    0.0    0.0    0.0     0.0      0.0       0.0        0.0        0.0       0.0      0.0    0.0    0.0    0.0     NaN      NaN       NaN        NaN        NaN       NaN      NaN    NaN    NaN    NaN \n",
            "9   TRAIN000009      NRG      TRAIN076328  42.0    NRG      NRG      NaN      0.0      0.0       0.0        0.0        0.0       0.0      0.0    0.0    0.0    0.0     0.0      0.0       0.0        0.0        0.0       0.0      0.0    0.0    0.0    0.0     NaN      NaN       NaN        NaN        NaN       NaN      NaN    NaN    NaN    NaN \n",
            "10  TRAIN000010      NRG      TRAIN099528  56.0    NRG      NRG      NaN      0.0      0.0       0.0        0.0        0.0       0.0      0.0    0.0    0.0    0.0     0.0      0.0       0.0        0.0        0.0       0.0      0.0    0.0    0.0    0.0     NaN      NaN       NaN        NaN        NaN       NaN      NaN    NaN    NaN    NaN \n",
            "11  TRAIN000011      NRG      TRAIN061398  50.0     RG      NRG      NRG      1.0      1.0       0.0        0.0        1.0       1.0      0.0    0.0    0.0    0.0     0.0      0.0       0.0        0.0        0.0       0.0      0.0    0.0    0.0    0.0     0.0      0.0       0.0        0.0        0.0       0.0      0.0    0.0    0.0    0.0 \n",
            "12  TRAIN000012      NRG      TRAIN092267  54.0    NRG      NRG      NaN      0.0      0.0       0.0        0.0        0.0       0.0      0.0    0.0    0.0    0.0     0.0      0.0       0.0        0.0        0.0       0.0      0.0    0.0    0.0    0.0     NaN      NaN       NaN        NaN        NaN       NaN      NaN    NaN    NaN    NaN \n",
            "13  TRAIN000013      NRG      TRAIN101701  50.0    NRG      NRG      NaN      0.0      0.0       0.0        0.0        0.0       0.0      0.0    0.0    0.0    0.0     0.0      0.0       0.0        0.0        0.0       0.0      0.0    0.0    0.0    0.0     NaN      NaN       NaN        NaN        NaN       NaN      NaN    NaN    NaN    NaN \n",
            "14  TRAIN000014      NRG      TRAIN005256  70.0    NRG      NRG      NaN      0.0      0.0       0.0        0.0        0.0       0.0      0.0    0.0    0.0    0.0     0.0      0.0       0.0        0.0        0.0       0.0      0.0    0.0    0.0    0.0     NaN      NaN       NaN        NaN        NaN       NaN      NaN    NaN    NaN    NaN \n",
            "15  TRAIN000015      NRG      TRAIN050957  62.0    NRG      NRG      NaN      0.0      0.0       0.0        0.0        0.0       0.0      0.0    0.0    0.0    0.0     0.0      0.0       0.0        0.0        0.0       0.0      0.0    0.0    0.0    0.0     NaN      NaN       NaN        NaN        NaN       NaN      NaN    NaN    NaN    NaN \n",
            "16  TRAIN000016      NRG      TRAIN006198  64.0    NRG      NRG      NaN      0.0      0.0       0.0        0.0        0.0       0.0      0.0    0.0    0.0    0.0     0.0      0.0       0.0        0.0        0.0       0.0      0.0    0.0    0.0    0.0     NaN      NaN       NaN        NaN        NaN       NaN      NaN    NaN    NaN    NaN \n",
            "17  TRAIN000017      NRG      TRAIN047077  59.0    NRG      NRG      NaN      0.0      0.0       0.0        0.0        0.0       0.0      0.0    0.0    0.0    0.0     0.0      0.0       0.0        0.0        0.0       0.0      0.0    0.0    0.0    0.0     NaN      NaN       NaN        NaN        NaN       NaN      NaN    NaN    NaN    NaN \n",
            "18  TRAIN000018      NRG      TRAIN058010  51.0    NRG      NRG      NaN      0.0      0.0       0.0        0.0        0.0       0.0      0.0    0.0    0.0    0.0     0.0      0.0       0.0        0.0        0.0       0.0      0.0    0.0    0.0    0.0     NaN      NaN       NaN        NaN        NaN       NaN      NaN    NaN    NaN    NaN \n",
            "19  TRAIN000019      NRG      TRAIN040419  59.0    NRG      NRG      NaN      0.0      0.0       0.0        0.0        0.0       0.0      0.0    0.0    0.0    0.0     0.0      0.0       0.0        0.0        0.0       0.0      0.0    0.0    0.0    0.0     NaN      NaN       NaN        NaN        NaN       NaN      NaN    NaN    NaN    NaN \n",
            "20  TRAIN000020      NRG      TRAIN065225  60.0    NRG      NRG      NaN      0.0      0.0       0.0        0.0        0.0       0.0      0.0    0.0    0.0    0.0     0.0      0.0       0.0        0.0        0.0       0.0      0.0    0.0    0.0    0.0     NaN      NaN       NaN        NaN        NaN       NaN      NaN    NaN    NaN    NaN \n"
          ]
        }
      ],
      "source": [
        "# Importando as bibliotecas necessárias\n",
        "import pandas as pd\n",
        "\n",
        "# 1. Carregando os dados\n",
        "# Carregar o arquivo CSV com os caminhos das imagens e seus rótulos\n",
        "csv_file = \"/content/JustRAIGS_Train_labels.csv\"  # Substitua pelo caminho do seu arquivo CSV\n",
        "data = pd.read_csv(csv_file, delimiter=';')  # Especificando o delimitador como ponto e vírgula\n",
        "\n",
        "# Encontrar e mostrar os valores ausentes\n",
        "missing_values = data.isnull().sum()\n",
        "missing_percentage = (missing_values / len(data)) * 100\n",
        "missing_data = pd.concat([missing_values, missing_percentage], axis=1)\n",
        "missing_data.columns = [' Missing Values', 'Percentage Missing']\n",
        "print(\"Missing values and percentages per column::\")\n",
        "print(\"\\n\")  # Adiciona três linhas em branco\n",
        "print(missing_data)\n",
        "print(\"\\n\" * 3)  # Adiciona três linhas em branco\n",
        "\n",
        "# Configurar o Pandas para exibir mais colunas e expandir o espaço entre elas\n",
        "pd.set_option('display.max_columns', None)  # Exibir todas as colunas\n",
        "pd.set_option('display.max_colwidth', None)  # Remover limite de largura das colunas\n",
        "pd.set_option('display.expand_frame_repr', False)  # Exibir DataFrame em uma única linha\n",
        "pd.set_option('display.colheader_justify', 'center')  # Centralizar os títulos das colunas\n",
        "\n",
        "# Exibir as primeiras 21 linhas do arquivo CSV para entender a estrutura dos dados\n",
        "print(\"First 21 lines of the CSV file::\")\n",
        "print(\"\\n\")  # Adiciona três linhas em branco\n",
        "print(data.head(21))\n"
      ]
    },
    {
      "cell_type": "code",
      "source": [
        "# 2. Pré-processamento dos dados\n",
        "# Carregar e redimensionar as imagens, convertendo-as em arrays numpy\n",
        "images = []\n",
        "labels_referable_glaucoma = []\n",
        "labels_additional_features = []\n",
        "\n",
        "for index, row in data.iterrows():\n",
        "    image = cv2.imread(row['image_path'])  # 'image_path' é o nome da coluna que contém os caminhos das imagens\n",
        "    image = cv2.cvtColor(image, cv2.COLOR_BGR2RGB)  # Converter de BGR para RGB\n",
        "    image = cv2.resize(image, (224, 224))  # Redimensionar para um tamanho padrão\n",
        "    images.append(image)\n",
        "    labels_referable_glaucoma.append(row['referable_glaucoma'])  # Rótulos para classificação binária\n",
        "    labels_additional_features.append(row.drop(['image_path', 'referable_glaucoma']).values)  # Rótulos para classificação multirrótulo\n",
        "\n",
        "images = np.array(images)\n",
        "labels_referable_glaucoma = np.array(labels_referable_glaucoma)\n",
        "labels_additional_features = np.array(labels_additional_features)"
      ],
      "metadata": {
        "id": "9AcNHGJwl4x1"
      },
      "execution_count": null,
      "outputs": []
    },
    {
      "cell_type": "code",
      "source": [
        "# 3. Divisão dos dados em conjuntos de treinamento, validação e teste\n",
        "X_train, X_test, y_train_referable, y_test_referable, y_train_features, y_test_features = train_test_split(images, labels_referable_glaucoma, labels_additional_features, test_size=0.2, random_state=42)\n",
        "X_train, X_val, y_train_referable, y_val_referable, y_train_features, y_val_features = train_test_split(X_train, y_train_referable, y_train_features, test_size=0.2, random_state=42)\n",
        "\n"
      ],
      "metadata": {
        "id": "Mx078nE0l9b_"
      },
      "execution_count": null,
      "outputs": []
    },
    {
      "cell_type": "code",
      "source": [
        "# 4. Criando o modelo\n",
        "# Arquitetura baseada em uma CNN simples para classificação binária referable glaucoma\n",
        "model_referable_glaucoma = tf.keras.Sequential([\n",
        "    tf.keras.layers.Conv2D(32, (3, 3), activation='relu', input_shape=(224, 224, 3)),\n",
        "    tf.keras.layers.MaxPooling2D((2, 2)),\n",
        "    tf.keras.layers.Conv2D(64, (3, 3), activation='relu'),\n",
        "    tf.keras.layers.MaxPooling2D((2, 2)),\n",
        "    tf.keras.layers.Conv2D(128, (3, 3), activation='relu'),\n",
        "    tf.keras.layers.MaxPooling2D((2, 2)),\n",
        "    tf.keras.layers.Flatten(),\n",
        "    tf.keras.layers.Dense(128, activation='relu'),\n",
        "    tf.keras.layers.Dropout(0.5),\n",
        "    tf.keras.layers.Dense(1, activation='sigmoid')\n",
        "])\n",
        "\n",
        "# Compilando o modelo\n",
        "model_referable_glaucoma.compile(optimizer='adam',\n",
        "              loss='binary_crossentropy',\n",
        "              metrics=['accuracy'])\n"
      ],
      "metadata": {
        "id": "Vcswkh5tmCyT"
      },
      "execution_count": null,
      "outputs": []
    },
    {
      "cell_type": "code",
      "source": [
        "# 5. Treinamento do modelo\n",
        "history_referable_glaucoma = model_referable_glaucoma.fit(X_train, y_train_referable, epochs=10, batch_size=32, validation_data=(X_val, y_val_referable))\n",
        "\n",
        "# Plotando a curva de aprendizado\n",
        "plt.plot(history_referable_glaucoma.history['accuracy'], label='accuracy')\n",
        "plt.plot(history_referable_glaucoma.history['val_accuracy'], label='val_accuracy')\n",
        "plt.xlabel('Epoch')\n",
        "plt.ylabel('Accuracy')\n",
        "plt.legend(loc='lower right')\n",
        "plt.show()\n",
        "\n",
        "# Avaliando o modelo\n",
        "loss, accuracy = model_referable_glaucoma.evaluate(X_test, y_test_referable)\n",
        "print(\"Test Accuracy (Referable Glaucoma):\", accuracy)"
      ],
      "metadata": {
        "id": "CuN6cBn1mJ56"
      },
      "execution_count": null,
      "outputs": []
    },
    {
      "cell_type": "code",
      "source": [
        "# 6. Criando e treinando o modelo para classificação multirrótulo das características adicionais\n",
        "# Codificando os rótulos multirrótulo usando MultiLabelBinarizer\n",
        "mlb = MultiLabelBinarizer()\n",
        "y_train_features_encoded = mlb.fit_transform(y_train_features)\n",
        "y_val_features_encoded = mlb.transform(y_val_features)\n",
        "y_test_features_encoded = mlb.transform(y_test_features)\n",
        "\n",
        "# Arquitetura do modelo para classificação multirrótulo\n",
        "model_additional_features = tf.keras.Sequential([\n",
        "    tf.keras.layers.Conv2D(32, (3, 3), activation='relu', input_shape=(224, 224, 3)),\n",
        "    tf.keras.layers.MaxPooling2D((2, 2)),\n",
        "    tf.keras.layers.Conv2D(64, (3, 3), activation='relu'),\n",
        "    tf.keras.layers.MaxPooling2D((2, 2)),\n",
        "    tf.keras.layers.Conv2D(128, (3, 3), activation='relu'),\n",
        "    tf.keras.layers.MaxPooling2D((2, 2)),\n",
        "    tf.keras.layers.Flatten(),\n",
        "    tf.keras.layers.Dense(128, activation='relu'),\n",
        "    tf.keras.layers.Dropout(0.5),\n",
        "    tf.keras.layers.Dense(len(mlb.classes_), activation='sigmoid')  # Usando sigmoid para múltiplas saídas\n",
        "])\n",
        "\n",
        "# Compilando o modelo\n",
        "model_additional_features.compile(optimizer='adam',\n",
        "                                  loss='binary_crossentropy',\n",
        "                                  metrics=['accuracy'])\n",
        "\n",
        "# Treinando o modelo\n",
        "history_additional_features = model_additional_features.fit(X_train, y_train_features_encoded, epochs=10, batch_size=32, validation_data=(X_val, y_val_features_encoded))\n",
        "\n",
        "# Plotando a curva de aprendizado\n",
        "plt.plot(history_additional_features.history['accuracy'], label='accuracy')\n",
        "plt.plot(history_additional_features.history['val_accuracy'], label='val_accuracy')\n",
        "plt.xlabel('Epoch')\n",
        "plt.ylabel('Accuracy')\n",
        "plt.legend(loc='lower right')\n",
        "plt.show()\n",
        "\n",
        "# Avaliando o modelo\n",
        "loss, accuracy = model_additional_features.evaluate(X_test, y_test_features_encoded)\n",
        "print(\"Test Accuracy (Additional Features):\", accuracy)"
      ],
      "metadata": {
        "id": "lhWzFE-TmOFo"
      },
      "execution_count": null,
      "outputs": []
    },
    {
      "cell_type": "code",
      "source": [
        "# 7. Ajustes e otimização (opcional)\n",
        "# Se necessário, ajuste a arquitetura do modelo, hiperparâmetros e utilize técnicas de regularização para melhorar o desempenho\n",
        "\n",
        "# Ajustando o modelo referable glaucoma\n",
        "model_referable_glaucoma_adjusted = tf.keras.Sequential([\n",
        "    tf.keras.layers.Conv2D(64, (3, 3), activation='relu', input_shape=(224, 224, 3)),\n",
        "    tf.keras.layers.MaxPooling2D((2, 2)),\n",
        "    tf.keras.layers.Conv2D(128, (3, 3), activation='relu'),\n",
        "    tf.keras.layers.MaxPooling2D((2, 2)),\n",
        "    tf.keras.layers.Conv2D(256, (3, 3), activation='relu'),\n",
        "    tf.keras.layers.MaxPooling2D((2, 2)),\n",
        "    tf.keras.layers.Flatten(),\n",
        "    tf.keras.layers.Dense(256, activation='relu'),\n",
        "    tf.keras.layers.Dropout(0.5),\n",
        "    tf.keras.layers.Dense(1, activation='sigmoid')\n",
        "])\n",
        "\n",
        "# Compilando o modelo ajustado\n",
        "model_referable_glaucoma_adjusted.compile(optimizer='adam',\n",
        "                                           loss='binary_crossentropy',\n",
        "                                           metrics=['accuracy'])\n",
        "\n",
        "# Treinando o modelo ajustado\n",
        "history_referable_glaucoma_adjusted = model_referable_glaucoma_adjusted.fit(X_train, y_train_referable, epochs=15, batch_size=32, validation_data=(X_val, y_val_referable))\n",
        "\n",
        "# Avaliando o modelo ajustado\n",
        "loss, accuracy = model_referable_glaucoma_adjusted.evaluate(X_test, y_test_referable)\n",
        "print(\"Test Accuracy (Referable Glaucoma - Adjusted):\", accuracy)\n",
        "\n",
        "# Ajustando o modelo de características adicionais\n",
        "model_additional_features_adjusted = tf.keras.Sequential([\n",
        "    tf.keras.layers.Conv2D(64, (3, 3), activation='relu', input_shape=(224, 224, 3)),\n",
        "    tf.keras.layers.MaxPooling2D((2, 2)),\n",
        "    tf.keras.layers.Conv2D(128, (3, 3), activation='relu'),\n",
        "    tf.keras.layers.MaxPooling2D((2, 2)),\n",
        "    tf.keras.layers.Conv2D(256, (3, 3), activation='relu'),\n",
        "    tf.keras.layers.MaxPooling2D((2, 2)),\n",
        "    tf.keras.layers.Flatten(),\n",
        "    tf.keras.layers.Dense(256, activation='relu'),\n",
        "    tf.keras.layers.Dropout(0.5),\n",
        "    tf.keras.layers.Dense(len(mlb.classes_), activation='sigmoid')\n",
        "])\n",
        "\n",
        "# Compilando o modelo ajustado\n",
        "model_additional_features_adjusted.compile(optimizer='adam',\n",
        "                                           loss='binary_crossentropy',\n",
        "                                           metrics=['accuracy'])\n",
        "\n",
        "# Treinando o modelo ajustado\n",
        "history_additional_features_adjusted = model_additional_features_adjusted.fit(X_train, y_train_features_encoded, epochs=15, batch_size=32, validation_data=(X_val, y_val_features_encoded))\n",
        "\n",
        "# Avaliando o modelo ajustado\n",
        "loss, accuracy = model_additional_features_adjusted.evaluate(X_test, y_test_features_encoded)\n",
        "print(\"Test Accuracy (Additional Features - Adjusted):\", accuracy)\n"
      ],
      "metadata": {
        "id": "kyNPX60_mjjW"
      },
      "execution_count": null,
      "outputs": []
    },
    {
      "cell_type": "code",
      "source": [
        "# 8. Implantação (opcional)\n",
        "# Após treinar e ajustar os modelos, você pode implantá-los em um ambiente de produção para classificar novas imagens de fundo de olho\n",
        "# Salvar os modelos treinados\n",
        "model_referable_glaucoma.save(\"model_referable_glaucoma.h5\")\n",
        "model_additional_features.save(\"model_additional_features.h5\")"
      ],
      "metadata": {
        "id": "ghm4S9p1mpxf"
      },
      "execution_count": null,
      "outputs": []
    }
  ]
}